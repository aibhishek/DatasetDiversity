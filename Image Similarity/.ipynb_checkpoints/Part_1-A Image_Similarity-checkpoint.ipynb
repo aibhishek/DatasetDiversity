{
 "cells": [
  {
   "cell_type": "markdown",
   "id": "thermal-disability",
   "metadata": {},
   "source": [
    "#### Library Import"
   ]
  },
  {
   "cell_type": "code",
   "execution_count": 1,
   "id": "desperate-outreach",
   "metadata": {},
   "outputs": [
    {
     "ename": "ModuleNotFoundError",
     "evalue": "No module named 'tensorflow.keras'",
     "output_type": "error",
     "traceback": [
      "\u001b[1;31m---------------------------------------------------------------------------\u001b[0m",
      "\u001b[1;31mModuleNotFoundError\u001b[0m                       Traceback (most recent call last)",
      "\u001b[1;32m~\\AppData\\Local\\Temp/ipykernel_22608/3041535479.py\u001b[0m in \u001b[0;36m<module>\u001b[1;34m\u001b[0m\n\u001b[0;32m      3\u001b[0m \u001b[1;32mimport\u001b[0m \u001b[0mos\u001b[0m\u001b[1;33m\u001b[0m\u001b[1;33m\u001b[0m\u001b[0m\n\u001b[0;32m      4\u001b[0m \u001b[1;32mimport\u001b[0m \u001b[0mtensorflow\u001b[0m \u001b[1;32mas\u001b[0m \u001b[0mtf\u001b[0m\u001b[1;33m\u001b[0m\u001b[1;33m\u001b[0m\u001b[0m\n\u001b[1;32m----> 5\u001b[1;33m \u001b[1;32mfrom\u001b[0m \u001b[0mtensorflow\u001b[0m\u001b[1;33m.\u001b[0m\u001b[0mkeras\u001b[0m\u001b[1;33m.\u001b[0m\u001b[0mapplications\u001b[0m\u001b[1;33m.\u001b[0m\u001b[0mvgg16\u001b[0m \u001b[1;32mimport\u001b[0m \u001b[0mVGG16\u001b[0m\u001b[1;33m\u001b[0m\u001b[1;33m\u001b[0m\u001b[0m\n\u001b[0m\u001b[0;32m      6\u001b[0m \u001b[1;32mfrom\u001b[0m \u001b[0mtensorflow\u001b[0m\u001b[1;33m.\u001b[0m\u001b[0mkeras\u001b[0m\u001b[1;33m.\u001b[0m\u001b[0mpreprocessing\u001b[0m \u001b[1;32mimport\u001b[0m \u001b[0mimage\u001b[0m\u001b[1;33m\u001b[0m\u001b[1;33m\u001b[0m\u001b[0m\n\u001b[0;32m      7\u001b[0m \u001b[1;32mfrom\u001b[0m \u001b[0mtensorflow\u001b[0m\u001b[1;33m.\u001b[0m\u001b[0mkeras\u001b[0m\u001b[1;33m.\u001b[0m\u001b[0mapplications\u001b[0m\u001b[1;33m.\u001b[0m\u001b[0mvgg16\u001b[0m \u001b[1;32mimport\u001b[0m \u001b[0mpreprocess_input\u001b[0m\u001b[1;33m\u001b[0m\u001b[1;33m\u001b[0m\u001b[0m\n",
      "\u001b[1;31mModuleNotFoundError\u001b[0m: No module named 'tensorflow.keras'"
     ]
    }
   ],
   "source": [
    "import pandas as pd\n",
    "import numpy as np\n",
    "import os\n",
    "import tensorflow as tf\n",
    "from tensorflow.keras.applications.vgg16 import VGG16\n",
    "from tensorflow.keras.preprocessing import image\n",
    "from tensorflow.keras.applications.vgg16 import preprocess_input\n",
    "from keras import Sequential\n",
    "from tensorflow.keras.layers import Flatten, Dense\n",
    "from numpy.linalg import norm\n",
    "from sklearn.decomposition import PCA\n",
    "from glob import glob\n",
    "from IPython.core.display import HTML"
   ]
  },
  {
   "cell_type": "markdown",
   "id": "pregnant-peter",
   "metadata": {},
   "source": [
    "### 1. Creating the model"
   ]
  },
  {
   "cell_type": "markdown",
   "id": "455425b6",
   "metadata": {},
   "source": [
    "#### Model import without the classification layers. Only the feature extraction layers are required."
   ]
  },
  {
   "cell_type": "code",
   "execution_count": 2,
   "id": "maritime-business",
   "metadata": {},
   "outputs": [
    {
     "name": "stdout",
     "output_type": "stream",
     "text": [
      "WARNING:tensorflow:From C:\\Users\\maila\\Anaconda3\\lib\\site-packages\\tensorflow\\python\\ops\\init_ops.py:1251: calling VarianceScaling.__init__ (from tensorflow.python.ops.init_ops) with dtype is deprecated and will be removed in a future version.\n",
      "Instructions for updating:\n",
      "Call initializer instance with the dtype argument instead of passing it to the constructor\n"
     ]
    }
   ],
   "source": [
    "model = VGG16(weights=\"imagenet\", include_top=False)"
   ]
  },
  {
   "cell_type": "markdown",
   "id": "incorporate-mortgage",
   "metadata": {},
   "source": [
    "### 2. Auxiliary Functions"
   ]
  },
  {
   "cell_type": "markdown",
   "id": "4c2881e0",
   "metadata": {},
   "source": [
    "#### <p style=\"color:red\">Feature extraction and dimensionality  reduction.</p>"
   ]
  },
  {
   "cell_type": "code",
   "execution_count": null,
   "id": "abee61ac",
   "metadata": {},
   "outputs": [],
   "source": [
    "def extract_features(img_path):\n",
    "    img = image.load_img(img_path, target_size=(650,500))\n",
    "    x = image.img_to_array(img)\n",
    "    x = np.expand_dims(x, axis=0)\n",
    "    x = preprocess_input(x)\n",
    "    return(model.predict(x))\n",
    "\n",
    "def reduce_dimensions(features):\n",
    "    pca = PCA()\n",
    "    features = features.reshape(20,15*512)\n",
    "    pca.fit(features)\n",
    "    features_trans = pca.transform(features)\n",
    "    return(np.squeeze(features_trans.reshape(1,400)))\n",
    "\n",
    "def img_sim_score(features_1, features_2):\n",
    "    sim = (np.dot(features_1,features_2))/(norm(features_1,2)*norm(features_2,2))\n",
    "    return(1-sim) "
   ]
  },
  {
   "cell_type": "code",
   "execution_count": 3,
   "id": "surface-recruitment",
   "metadata": {},
   "outputs": [],
   "source": [
    "def img_sim_iterator(image_set_1, image_set_2, img_sim_type):\n",
    "    final_list = []\n",
    "    if img_sim_type == 'intra' and all(np.array_equal(m, n) for m, n in zip(image_set_1, image_set_2)):\n",
    "        for i in range(0,len(image_set_1)):\n",
    "            for j in range(0,len(image_set_2)):\n",
    "                if not image_set_1[i].all == image_set_2[j].all:\n",
    "                    final_list.append(img_sim_score(image_set_1[i],image_set_2[j]))\n",
    "    elif img_sim_type == 'cross' and not (all(np.array_equal(m, n) for m, n in zip(image_set_1, image_set_2))):\n",
    "        for i in range(0,len(image_set_1)):\n",
    "            for j in range(0,len(image_set_2)):\n",
    "                final_list.append(img_sim_score(image_set_1[i],image_set_2[j]))\n",
    "    return final_list  \n",
    "\n",
    "def img_sim_intra_calculator(image_list):\n",
    "    feat_list = []\n",
    "    for img in image_list:\n",
    "        feat_list.append(reduce_dimensions(extract_features(img)))\n",
    "    return np.mean(img_sim_iterator(feat_list, feat_list, 'intra'))\n",
    "\n",
    "def img_sim_cross_calculator(image_list):\n",
    "    feat_list_combined = []\n",
    "    for ls in image_list:\n",
    "        feat_list = []\n",
    "        for img in ls:\n",
    "            feat_list.append(reduce_dimensions(extract_features(img)))\n",
    "        feat_list_combined.append(feat_list)\n",
    "    isc_list = []\n",
    "    for i in range(0,len(feat_list_combined)):\n",
    "        temp = feat_list_combined.pop()\n",
    "        for i in range(0,len(feat_list_combined)):\n",
    "            isc_list.append(np.mean(img_sim_iterator(temp,feat_list_combined[i],'cross')))\n",
    "    return np.mean(isc_list)"
   ]
  },
  {
   "cell_type": "markdown",
   "id": "impossible-portfolio",
   "metadata": {},
   "source": [
    "### 3. Calculating Image Similarity Scores"
   ]
  },
  {
   "cell_type": "markdown",
   "id": "distant-badge",
   "metadata": {},
   "source": [
    "### <b style=\"color:red\">CEO</b>"
   ]
  },
  {
   "cell_type": "markdown",
   "id": "durable-potter",
   "metadata": {},
   "source": [
    "#### Loading the images"
   ]
  },
  {
   "cell_type": "code",
   "execution_count": 4,
   "id": "significant-motivation",
   "metadata": {},
   "outputs": [],
   "source": [
    "ceo_ar = [f for f in glob(f'Faces/CEO/Arabic/*')]\n",
    "ceo_engna = [f for f in glob(f'Faces/CEO/English_NA/*')]\n",
    "ceo_engwe = [f for f in glob(f'Faces/CEO/English_WE/*')]\n",
    "ceo_hi = [f for f in glob(f'Faces/CEO/Hindi/*')]\n",
    "ceo_id = [f for f in glob(f'Faces/CEO/Indonesian/*')]\n",
    "ceo_mnd = [f for f in glob(f'Faces/CEO/Mandarin/*')]\n",
    "ceo_ru = [f for f in glob(f'Faces/CEO/Russian/*')]\n",
    "ceo_es = [f for f in glob(f'Faces/CEO/Spanish/*')]\n",
    "ceo_sw = [f for f in glob(f'Faces/CEO/Swahili/*')]\n",
    "\n",
    "ceo_list = [ceo_ar,ceo_engna,ceo_engwe,ceo_hi,ceo_id,ceo_mnd,ceo_ru,ceo_es,ceo_sw]"
   ]
  },
  {
   "cell_type": "markdown",
   "id": "occasional-newspaper",
   "metadata": {},
   "source": [
    "#### Calculating Img_Sim Scores"
   ]
  },
  {
   "cell_type": "code",
   "execution_count": 5,
   "id": "understood-split",
   "metadata": {},
   "outputs": [],
   "source": [
    "ceo_img_sim_intra_scores_list = []\n",
    "for ls in ceo_list:\n",
    "    ceo_img_sim_intra_scores_list.append(img_sim_intra_calculator(ls))\n",
    "\n",
    "ceo_img_sim_cross_score = img_sim_cross_calculator(ceo_list)\n",
    "ceo_img_sim_cross_score_list = []\n",
    "for i in range(0,9):\n",
    "    ceo_img_sim_cross_score_list.append(ceo_img_sim_cross_score)"
   ]
  },
  {
   "cell_type": "markdown",
   "id": "recorded-implement",
   "metadata": {},
   "source": [
    "#### Creating Data Frame to store results"
   ]
  },
  {
   "cell_type": "code",
   "execution_count": 6,
   "id": "satisfactory-system",
   "metadata": {},
   "outputs": [],
   "source": [
    "lang_locale_list = ['Arabic-West Asia & North Africa','English-North America','English-West Europe','Hindi-South Asia','Indonesian-SE Asia','Mandarin-East Asia','Russian-East Europe','Spanish-Latin America','Swahili-Sub Saharan Africa']\n",
    "column_list = ['Query', 'Lang&Locale','Image_List','ImgSim_Intra','ImgSim_Cross']\n",
    "ceo_query_list = []\n",
    "for i in range(0,9):\n",
    "    ceo_query_list.append('CEO')\n",
    "\n",
    "ceo_df = pd.DataFrame(list(zip(ceo_query_list, lang_locale_list, ceo_list,ceo_img_sim_intra_scores_list,ceo_img_sim_cross_score_list)), \n",
    "               columns = column_list) "
   ]
  },
  {
   "cell_type": "code",
   "execution_count": 13,
   "id": "absent-animal",
   "metadata": {},
   "outputs": [],
   "source": [
    "ceo_df.to_csv('Results/ceo.csv')"
   ]
  },
  {
   "cell_type": "markdown",
   "id": "demonstrated-husband",
   "metadata": {},
   "source": [
    "### <b style=\"color:red\">Engineer</b>"
   ]
  },
  {
   "cell_type": "markdown",
   "id": "dutch-martin",
   "metadata": {},
   "source": [
    "#### Loading the images"
   ]
  },
  {
   "cell_type": "code",
   "execution_count": 8,
   "id": "verified-requirement",
   "metadata": {},
   "outputs": [],
   "source": [
    "engr_ar = [f for f in glob(f'Faces/Engineer/Arabic/*')]\n",
    "engr_engna = [f for f in glob(f'Faces/Engineer/English_NA/*')]\n",
    "engr_engwe = [f for f in glob(f'Faces/Engineer/English_WE/*')]\n",
    "engr_hi = [f for f in glob(f'Faces/Engineer/Hindi/*')]\n",
    "engr_id = [f for f in glob(f'Faces/Engineer/Indonesian/*')]\n",
    "engr_mnd = [f for f in glob(f'Faces/Engineer/Mandarin/*')]\n",
    "engr_ru = [f for f in glob(f'Faces/Engineer/Russian/*')]\n",
    "engr_es = [f for f in glob(f'Faces/Engineer/Spanish/*')]\n",
    "engr_sw = [f for f in glob(f'Faces/Engineer/Swahili/*')]\n",
    "\n",
    "engr_list = [engr_ar,engr_engna,engr_engwe,engr_hi,engr_id,engr_mnd,engr_ru,engr_es,engr_sw]"
   ]
  },
  {
   "cell_type": "markdown",
   "id": "pleased-delight",
   "metadata": {},
   "source": [
    "#### Calculating Img_Sim Scores"
   ]
  },
  {
   "cell_type": "code",
   "execution_count": 9,
   "id": "neither-rubber",
   "metadata": {},
   "outputs": [],
   "source": [
    "engr_img_sim_intra_scores_list = []\n",
    "for ls in engr_list:\n",
    "    engr_img_sim_intra_scores_list.append(img_sim_intra_calculator(ls))\n",
    "\n",
    "engr_img_sim_cross_score = img_sim_cross_calculator(engr_list)\n",
    "engr_img_sim_cross_score_list = []\n",
    "for i in range(0,9):\n",
    "    engr_img_sim_cross_score_list.append(engr_img_sim_cross_score)"
   ]
  },
  {
   "cell_type": "markdown",
   "id": "young-bearing",
   "metadata": {},
   "source": [
    "#### Creating Data Frame to store results"
   ]
  },
  {
   "cell_type": "code",
   "execution_count": 10,
   "id": "suspected-wrestling",
   "metadata": {},
   "outputs": [],
   "source": [
    "engr_query_list = []\n",
    "for i in range(0,9):\n",
    "    engr_query_list.append('Engineer')\n",
    "    \n",
    "engr_df = pd.DataFrame(list(zip(engr_query_list, lang_locale_list, engr_list, engr_img_sim_intra_scores_list, engr_img_sim_cross_score_list)), \n",
    "               columns = column_list) "
   ]
  },
  {
   "cell_type": "code",
   "execution_count": 14,
   "id": "disabled-pottery",
   "metadata": {},
   "outputs": [],
   "source": [
    "engr_df.to_csv('Results/engr.csv')"
   ]
  },
  {
   "cell_type": "markdown",
   "id": "partial-stock",
   "metadata": {},
   "source": [
    "### <b style=\"color:red\">Nurse</b>"
   ]
  },
  {
   "cell_type": "markdown",
   "id": "tamil-melbourne",
   "metadata": {},
   "source": [
    "#### Loading the images"
   ]
  },
  {
   "cell_type": "code",
   "execution_count": 15,
   "id": "incredible-gasoline",
   "metadata": {},
   "outputs": [],
   "source": [
    "nur_ar = [f for f in glob(f'Faces/Nurse/Arabic/*')]\n",
    "nur_engna = [f for f in glob(f'Faces/Nurse/English_NA/*')]\n",
    "nur_engwe = [f for f in glob(f'Faces/Nurse/English_WE/*')]\n",
    "nur_hi = [f for f in glob(f'Faces/Nurse/Hindi/*')]\n",
    "nur_id = [f for f in glob(f'Faces/Nurse/Indonesian/*')]\n",
    "nur_mnd = [f for f in glob(f'Faces/Nurse/Mandarin/*')]\n",
    "nur_ru = [f for f in glob(f'Faces/Nurse/Russian/*')]\n",
    "nur_es = [f for f in glob(f'Faces/Nurse/Spanish/*')]\n",
    "nur_sw = [f for f in glob(f'Faces/Nurse/Swahili/*')]\n",
    "\n",
    "nur_list = [nur_ar,nur_engna,nur_engwe,nur_hi,nur_id,nur_mnd,nur_ru,nur_es,nur_sw]"
   ]
  },
  {
   "cell_type": "markdown",
   "id": "formal-developer",
   "metadata": {},
   "source": [
    "#### Calculating Img_Sim Scores"
   ]
  },
  {
   "cell_type": "code",
   "execution_count": 19,
   "id": "cathedral-polish",
   "metadata": {},
   "outputs": [],
   "source": [
    "nur_img_sim_intra_scores_list = []\n",
    "for ls in nur_list:\n",
    "    nur_img_sim_intra_scores_list.append(img_sim_intra_calculator(ls))\n",
    "\n",
    "nur_img_sim_cross_score = img_sim_cross_calculator(nur_list)\n",
    "nur_img_sim_cross_score_list = []\n",
    "for i in range(0,9):\n",
    "    nur_img_sim_cross_score_list.append(nur_img_sim_cross_score)"
   ]
  },
  {
   "cell_type": "markdown",
   "id": "improved-healthcare",
   "metadata": {},
   "source": [
    "#### Creating Data Frame to store results"
   ]
  },
  {
   "cell_type": "code",
   "execution_count": 20,
   "id": "differential-eleven",
   "metadata": {},
   "outputs": [],
   "source": [
    "nur_query_list = []\n",
    "for i in range(0,9):\n",
    "    nur_query_list.append('Nurse')\n",
    "    \n",
    "nur_df = pd.DataFrame(list(zip(nur_query_list, lang_locale_list, nur_list, nur_img_sim_intra_scores_list, nur_img_sim_cross_score_list)), \n",
    "               columns = column_list) "
   ]
  },
  {
   "cell_type": "code",
   "execution_count": 24,
   "id": "enclosed-dynamics",
   "metadata": {},
   "outputs": [],
   "source": [
    "nur_df.to_csv('Results/nur.csv')"
   ]
  },
  {
   "cell_type": "markdown",
   "id": "greatest-space",
   "metadata": {},
   "source": [
    "### <b style=\"color:red\">Politician</b>"
   ]
  },
  {
   "cell_type": "markdown",
   "id": "continental-canal",
   "metadata": {},
   "source": [
    "#### Loading the images"
   ]
  },
  {
   "cell_type": "code",
   "execution_count": 25,
   "id": "desirable-humanity",
   "metadata": {},
   "outputs": [],
   "source": [
    "pol_ar = [f for f in glob(f'Faces/Politician/Arabic/*')]\n",
    "pol_engna = [f for f in glob(f'Faces/Politician/English_NA/*')]\n",
    "pol_engwe = [f for f in glob(f'Faces/Politician/English_WE/*')]\n",
    "pol_hi = [f for f in glob(f'Faces/Politician/Hindi/*')]\n",
    "pol_id = [f for f in glob(f'Faces/Politician/Indonesian/*')]\n",
    "pol_mnd = [f for f in glob(f'Faces/Politician/Mandarin/*')]\n",
    "pol_ru = [f for f in glob(f'Faces/Politician/Russian/*')]\n",
    "pol_es = [f for f in glob(f'Faces/Politician/Spanish/*')]\n",
    "pol_sw = [f for f in glob(f'Faces/Politician/Swahili/*')]\n",
    "\n",
    "pol_list = [pol_ar,pol_engna,pol_engwe,pol_hi,pol_id,pol_mnd,pol_ru,pol_es,pol_sw]"
   ]
  },
  {
   "cell_type": "markdown",
   "id": "colonial-warrant",
   "metadata": {},
   "source": [
    "#### Calculating Img_Sim Scores"
   ]
  },
  {
   "cell_type": "code",
   "execution_count": 26,
   "id": "manual-thompson",
   "metadata": {},
   "outputs": [],
   "source": [
    "pol_img_sim_intra_scores_list = []\n",
    "for ls in pol_list:\n",
    "    pol_img_sim_intra_scores_list.append(img_sim_intra_calculator(ls))\n",
    "\n",
    "pol_img_sim_cross_score = img_sim_cross_calculator(pol_list)\n",
    "pol_img_sim_cross_score_list = []\n",
    "for i in range(0,9):\n",
    "    pol_img_sim_cross_score_list.append(pol_img_sim_cross_score)"
   ]
  },
  {
   "cell_type": "markdown",
   "id": "popular-stewart",
   "metadata": {},
   "source": [
    "#### Creating Data Frame to store results"
   ]
  },
  {
   "cell_type": "code",
   "execution_count": 27,
   "id": "portable-nation",
   "metadata": {},
   "outputs": [],
   "source": [
    "pol_query_list = []\n",
    "for i in range(0,9):\n",
    "    pol_query_list.append('Politician')\n",
    "    \n",
    "pol_df = pd.DataFrame(list(zip(pol_query_list, lang_locale_list, pol_list, pol_img_sim_intra_scores_list, pol_img_sim_cross_score_list)), \n",
    "               columns = column_list)"
   ]
  },
  {
   "cell_type": "code",
   "execution_count": 30,
   "id": "biblical-apollo",
   "metadata": {},
   "outputs": [],
   "source": [
    "pol_df.to_csv('Results/pol.csv')"
   ]
  },
  {
   "cell_type": "markdown",
   "id": "public-smart",
   "metadata": {},
   "source": [
    "### <b style=\"color:red\">School Teacher</b>"
   ]
  },
  {
   "cell_type": "markdown",
   "id": "critical-swing",
   "metadata": {},
   "source": [
    "#### Loading the images"
   ]
  },
  {
   "cell_type": "code",
   "execution_count": 31,
   "id": "caring-allocation",
   "metadata": {},
   "outputs": [],
   "source": [
    "st_ar = [f for f in glob(f'Faces/School Teacher/Arabic/*')]\n",
    "st_engna = [f for f in glob(f'Faces/School Teacher/English_NA/*')]\n",
    "st_engwe = [f for f in glob(f'Faces/School Teacher/English_WE/*')]\n",
    "st_hi = [f for f in glob(f'Faces/School Teacher/Hindi/*')]\n",
    "st_id = [f for f in glob(f'Faces/School Teacher/Indonesian/*')]\n",
    "st_mnd = [f for f in glob(f'Faces/School Teacher/Mandarin/*')]\n",
    "st_ru = [f for f in glob(f'Faces/School Teacher/Russian/*')]\n",
    "st_es = [f for f in glob(f'Faces/School Teacher/Spanish/*')]\n",
    "st_sw = [f for f in glob(f'Faces/School Teacher/Swahili/*')]\n",
    "\n",
    "st_list = [st_ar,st_engna,st_engwe,st_hi,st_id,st_mnd,st_ru,st_es,st_sw]"
   ]
  },
  {
   "cell_type": "markdown",
   "id": "fancy-missile",
   "metadata": {},
   "source": [
    "#### Calculating Img_Sim Scores"
   ]
  },
  {
   "cell_type": "code",
   "execution_count": 32,
   "id": "moved-occasions",
   "metadata": {},
   "outputs": [],
   "source": [
    "st_img_sim_intra_scores_list = []\n",
    "for ls in st_list:\n",
    "    st_img_sim_intra_scores_list.append(img_sim_intra_calculator(ls))\n",
    "\n",
    "st_img_sim_cross_score = img_sim_cross_calculator(st_list)\n",
    "st_img_sim_cross_score_list = []\n",
    "for i in range(0,9):\n",
    "    st_img_sim_cross_score_list.append(st_img_sim_cross_score)"
   ]
  },
  {
   "cell_type": "markdown",
   "id": "sonic-cabin",
   "metadata": {},
   "source": [
    "#### Creating Data Frame to store results"
   ]
  },
  {
   "cell_type": "code",
   "execution_count": 33,
   "id": "monthly-multimedia",
   "metadata": {},
   "outputs": [],
   "source": [
    "st_query_list = []\n",
    "for i in range(0,9):\n",
    "    st_query_list.append('School Teacher')\n",
    "    \n",
    "st_df = pd.DataFrame(list(zip(st_query_list, lang_locale_list, st_list, st_img_sim_intra_scores_list, st_img_sim_cross_score_list)), \n",
    "               columns = column_list)"
   ]
  },
  {
   "cell_type": "code",
   "execution_count": 36,
   "id": "peripheral-selling",
   "metadata": {},
   "outputs": [],
   "source": [
    "st_df.to_csv('Results/st.csv')"
   ]
  }
 ],
 "metadata": {
  "kernelspec": {
   "display_name": "Python 3 (ipykernel)",
   "language": "python",
   "name": "python3"
  },
  "language_info": {
   "codemirror_mode": {
    "name": "ipython",
    "version": 3
   },
   "file_extension": ".py",
   "mimetype": "text/x-python",
   "name": "python",
   "nbconvert_exporter": "python",
   "pygments_lexer": "ipython3",
   "version": "3.7.3"
  }
 },
 "nbformat": 4,
 "nbformat_minor": 5
}
