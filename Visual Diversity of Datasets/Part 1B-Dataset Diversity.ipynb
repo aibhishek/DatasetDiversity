{
 "cells": [
  {
   "cell_type": "markdown",
   "id": "supported-control",
   "metadata": {},
   "source": [
    "#### Library Import"
   ]
  },
  {
   "cell_type": "code",
   "execution_count": 1,
   "id": "narrow-gardening",
   "metadata": {},
   "outputs": [
    {
     "name": "stderr",
     "output_type": "stream",
     "text": [
      "C:\\Users\\maila\\Anaconda3\\lib\\site-packages\\tensorflow\\python\\framework\\dtypes.py:516: FutureWarning: Passing (type, 1) or '1type' as a synonym of type is deprecated; in a future version of numpy, it will be understood as (type, (1,)) / '(1,)type'.\n",
      "  _np_qint8 = np.dtype([(\"qint8\", np.int8, 1)])\n",
      "C:\\Users\\maila\\Anaconda3\\lib\\site-packages\\tensorflow\\python\\framework\\dtypes.py:517: FutureWarning: Passing (type, 1) or '1type' as a synonym of type is deprecated; in a future version of numpy, it will be understood as (type, (1,)) / '(1,)type'.\n",
      "  _np_quint8 = np.dtype([(\"quint8\", np.uint8, 1)])\n",
      "C:\\Users\\maila\\Anaconda3\\lib\\site-packages\\tensorflow\\python\\framework\\dtypes.py:518: FutureWarning: Passing (type, 1) or '1type' as a synonym of type is deprecated; in a future version of numpy, it will be understood as (type, (1,)) / '(1,)type'.\n",
      "  _np_qint16 = np.dtype([(\"qint16\", np.int16, 1)])\n",
      "C:\\Users\\maila\\Anaconda3\\lib\\site-packages\\tensorflow\\python\\framework\\dtypes.py:519: FutureWarning: Passing (type, 1) or '1type' as a synonym of type is deprecated; in a future version of numpy, it will be understood as (type, (1,)) / '(1,)type'.\n",
      "  _np_quint16 = np.dtype([(\"quint16\", np.uint16, 1)])\n",
      "C:\\Users\\maila\\Anaconda3\\lib\\site-packages\\tensorflow\\python\\framework\\dtypes.py:520: FutureWarning: Passing (type, 1) or '1type' as a synonym of type is deprecated; in a future version of numpy, it will be understood as (type, (1,)) / '(1,)type'.\n",
      "  _np_qint32 = np.dtype([(\"qint32\", np.int32, 1)])\n",
      "C:\\Users\\maila\\Anaconda3\\lib\\site-packages\\tensorflow\\python\\framework\\dtypes.py:525: FutureWarning: Passing (type, 1) or '1type' as a synonym of type is deprecated; in a future version of numpy, it will be understood as (type, (1,)) / '(1,)type'.\n",
      "  np_resource = np.dtype([(\"resource\", np.ubyte, 1)])\n",
      "C:\\Users\\maila\\Anaconda3\\lib\\site-packages\\tensorboard\\compat\\tensorflow_stub\\dtypes.py:541: FutureWarning: Passing (type, 1) or '1type' as a synonym of type is deprecated; in a future version of numpy, it will be understood as (type, (1,)) / '(1,)type'.\n",
      "  _np_qint8 = np.dtype([(\"qint8\", np.int8, 1)])\n",
      "C:\\Users\\maila\\Anaconda3\\lib\\site-packages\\tensorboard\\compat\\tensorflow_stub\\dtypes.py:542: FutureWarning: Passing (type, 1) or '1type' as a synonym of type is deprecated; in a future version of numpy, it will be understood as (type, (1,)) / '(1,)type'.\n",
      "  _np_quint8 = np.dtype([(\"quint8\", np.uint8, 1)])\n",
      "C:\\Users\\maila\\Anaconda3\\lib\\site-packages\\tensorboard\\compat\\tensorflow_stub\\dtypes.py:543: FutureWarning: Passing (type, 1) or '1type' as a synonym of type is deprecated; in a future version of numpy, it will be understood as (type, (1,)) / '(1,)type'.\n",
      "  _np_qint16 = np.dtype([(\"qint16\", np.int16, 1)])\n",
      "C:\\Users\\maila\\Anaconda3\\lib\\site-packages\\tensorboard\\compat\\tensorflow_stub\\dtypes.py:544: FutureWarning: Passing (type, 1) or '1type' as a synonym of type is deprecated; in a future version of numpy, it will be understood as (type, (1,)) / '(1,)type'.\n",
      "  _np_quint16 = np.dtype([(\"quint16\", np.uint16, 1)])\n",
      "C:\\Users\\maila\\Anaconda3\\lib\\site-packages\\tensorboard\\compat\\tensorflow_stub\\dtypes.py:545: FutureWarning: Passing (type, 1) or '1type' as a synonym of type is deprecated; in a future version of numpy, it will be understood as (type, (1,)) / '(1,)type'.\n",
      "  _np_qint32 = np.dtype([(\"qint32\", np.int32, 1)])\n",
      "C:\\Users\\maila\\Anaconda3\\lib\\site-packages\\tensorboard\\compat\\tensorflow_stub\\dtypes.py:550: FutureWarning: Passing (type, 1) or '1type' as a synonym of type is deprecated; in a future version of numpy, it will be understood as (type, (1,)) / '(1,)type'.\n",
      "  np_resource = np.dtype([(\"resource\", np.ubyte, 1)])\n",
      "Using TensorFlow backend.\n"
     ]
    }
   ],
   "source": [
    "import pandas as pd\n",
    "import numpy as np\n",
    "import os\n",
    "import tensorflow as tf\n",
    "from tensorflow.keras.applications.vgg16 import VGG16\n",
    "from tensorflow.keras.preprocessing import image\n",
    "from tensorflow.keras.applications.vgg16 import preprocess_input\n",
    "from keras import Sequential\n",
    "from tensorflow.keras.layers import Flatten, Dense\n",
    "from numpy.linalg import norm\n",
    "from sklearn.decomposition import PCA\n",
    "from glob import glob"
   ]
  },
  {
   "cell_type": "markdown",
   "id": "final-black",
   "metadata": {},
   "source": [
    "### 1. Creating the model"
   ]
  },
  {
   "cell_type": "code",
   "execution_count": 2,
   "id": "floral-chess",
   "metadata": {},
   "outputs": [
    {
     "name": "stdout",
     "output_type": "stream",
     "text": [
      "WARNING:tensorflow:From C:\\Users\\maila\\Anaconda3\\lib\\site-packages\\tensorflow\\python\\ops\\init_ops.py:1251: calling VarianceScaling.__init__ (from tensorflow.python.ops.init_ops) with dtype is deprecated and will be removed in a future version.\n",
      "Instructions for updating:\n",
      "Call initializer instance with the dtype argument instead of passing it to the constructor\n"
     ]
    }
   ],
   "source": [
    "model = VGG16(weights=\"imagenet\", include_top=False)  #Only the feature extraction layers are required."
   ]
  },
  {
   "cell_type": "markdown",
   "id": "demonstrated-andorra",
   "metadata": {},
   "source": [
    "### 2. Auxiliary Functions"
   ]
  },
  {
   "cell_type": "markdown",
   "id": "ef52680f",
   "metadata": {},
   "source": [
    "#### <p style = \"color:red\">Extracting image features and resizing the tensors. </p>"
   ]
  },
  {
   "cell_type": "code",
   "execution_count": null,
   "id": "586dfc4d",
   "metadata": {},
   "outputs": [],
   "source": [
    "def extract_features(img_path):\n",
    "    img = image.load_img(img_path, target_size=(650,500))\n",
    "    x = image.img_to_array(img)\n",
    "    x = np.expand_dims(x, axis=0)\n",
    "    x = preprocess_input(x)\n",
    "    return(model.predict(x))\n",
    "\n",
    "def reduce_dimensions(features):\n",
    "    pca = PCA()\n",
    "    features = features.reshape(20,15*512)\n",
    "    pca.fit(features)\n",
    "    features_trans = pca.transform(features)\n",
    "    return(np.squeeze(features_trans.reshape(1,400)))"
   ]
  },
  {
   "cell_type": "markdown",
   "id": "1f29cfa5",
   "metadata": {},
   "source": [
    "#### Calculating Image Similarity Scores"
   ]
  },
  {
   "cell_type": "markdown",
   "id": "670586be",
   "metadata": {},
   "source": [
    "<li>Image similarity is calculated as cosine similarity of extracted and resized features of two images.</li>\n",
    "<li>Higher the similarity score, more different the images. Two same images will have a similarity score of 0.</li>\n",
    "<li>Two types of images similarity scores: <li> <b>Image similarity intra </b> is the mean of image similarity score of every image with all other images in the image set. </li> <li><b>Image similarity cross</b> is the mean of all of the image similarity scores between the images across all the given image sets. </li></li>\n",
    "<li>Image similarity intra will compare one image set while cross will assess multiple image sets. </li>"
   ]
  },
  {
   "cell_type": "code",
   "execution_count": 3,
   "id": "metric-marriage",
   "metadata": {},
   "outputs": [],
   "source": [
    "def img_sim_score(features_1, features_2):\n",
    "    sim = (np.dot(features_1,features_2))/(norm(features_1,2)*norm(features_2,2))\n",
    "    return(1-sim) \n",
    "\n",
    "def img_sim_iterator(image_set_1, image_set_2, img_sim_type):\n",
    "    final_list = []\n",
    "    if img_sim_type == 'intra' and all(np.array_equal(m, n) for m, n in zip(image_set_1, image_set_2)):\n",
    "        for i in range(0,len(image_set_1)):\n",
    "            for j in range(0,len(image_set_2)):\n",
    "                if not image_set_1[i].all == image_set_2[j].all:\n",
    "                    final_list.append(img_sim_score(image_set_1[i],image_set_2[j]))\n",
    "    elif img_sim_type == 'cross' and not (all(np.array_equal(m, n) for m, n in zip(image_set_1, image_set_2))):\n",
    "        for i in range(0,len(image_set_1)):\n",
    "            for j in range(0,len(image_set_2)):\n",
    "                final_list.append(img_sim_score(image_set_1[i],image_set_2[j]))\n",
    "    return final_list  \n",
    "\n",
    "def img_sim_intra_calculator(image_list):\n",
    "    feat_list = []\n",
    "    for img in image_list:\n",
    "        feat_list.append(reduce_dimensions(extract_features(img)))\n",
    "    return np.mean(img_sim_iterator(feat_list, feat_list, 'intra'))\n",
    "\n",
    "def img_sim_cross_calculator(image_list):\n",
    "    feat_list_combined = []\n",
    "    for ls in image_list:\n",
    "        feat_list = []\n",
    "        for img in ls:\n",
    "            feat_list.append(reduce_dimensions(extract_features(img)))\n",
    "        feat_list_combined.append(feat_list)\n",
    "    isc_list = []\n",
    "    for i in range(0,len(feat_list_combined)):\n",
    "        temp = feat_list_combined.pop()\n",
    "        for i in range(0,len(feat_list_combined)):\n",
    "            isc_list.append(np.mean(img_sim_iterator(temp,feat_list_combined[i],'cross')))\n",
    "    return np.mean(isc_list)"
   ]
  },
  {
   "cell_type": "markdown",
   "id": "humanitarian-cream",
   "metadata": {},
   "source": [
    "### 3. Calculating Image Similarity Scores"
   ]
  },
  {
   "cell_type": "markdown",
   "id": "perceived-protocol",
   "metadata": {},
   "source": [
    "#### Loading the images"
   ]
  },
  {
   "cell_type": "code",
   "execution_count": 7,
   "id": "aboriginal-gender",
   "metadata": {},
   "outputs": [],
   "source": [
    "diverse_dataset = [f for f in glob(f'Faces/DiverseDataset/*')]\n",
    "ffhq = [f for f in glob(f'Faces/FFHQ/*')]\n",
    "imdb = [f for f in glob(f'Faces/IMDB/*')]\n",
    "lfw = [f for f in glob(f'Faces/LFW/*')]\n",
    "utk = [f for f in glob(f'Faces/UTK/*')]\n",
    "wiki = [f for f in glob(f'Faces/WIKI/*')]"
   ]
  },
  {
   "cell_type": "markdown",
   "id": "collectible-lesbian",
   "metadata": {},
   "source": [
    "#### Calculating Img_Sim Scores"
   ]
  },
  {
   "cell_type": "code",
   "execution_count": 8,
   "id": "minute-study",
   "metadata": {},
   "outputs": [],
   "source": [
    "diverse_dataset_sc = img_sim_intra_calculator(diverse_dataset)\n",
    "ffhq_sc = img_sim_intra_calculator(ffhq)\n",
    "imdb_sc = img_sim_intra_calculator(imdb)\n",
    "lfw_sc = img_sim_intra_calculator(lfw)\n",
    "utk_sc = img_sim_intra_calculator(utk)\n",
    "wiki_sc = img_sim_intra_calculator(wiki)"
   ]
  },
  {
   "cell_type": "code",
   "execution_count": 20,
   "id": "systematic-married",
   "metadata": {},
   "outputs": [],
   "source": [
    "scores_list = [diverse_dataset_sc,ffhq_sc,imdb_sc,lfw_sc,utk_sc,wiki_sc]\n",
    "dataset_list = ['Diverse Dataset','FFHQ','IMDB','LFW','UTK','WIKI']"
   ]
  },
  {
   "cell_type": "markdown",
   "id": "upset-vision",
   "metadata": {},
   "source": [
    "### 4. Creating Result Dataset"
   ]
  },
  {
   "cell_type": "code",
   "execution_count": 30,
   "id": "intermediate-hungarian",
   "metadata": {},
   "outputs": [],
   "source": [
    "result_df = pd.DataFrame(list(zip(dataset_list,scores_list)),columns=['Dataset','ImgSimScore_Intra'])"
   ]
  },
  {
   "cell_type": "code",
   "execution_count": 31,
   "id": "phantom-belle",
   "metadata": {},
   "outputs": [],
   "source": [
    "result_df = result_df.sort_values('ImgSimScore_Intra', ascending=False)\n",
    "result_df = result_df.reset_index()\n",
    "result_df = result_df.drop('index', axis=1)"
   ]
  },
  {
   "cell_type": "code",
   "execution_count": 35,
   "id": "valuable-madison",
   "metadata": {},
   "outputs": [],
   "source": [
    "result_df.to_csv('results.csv', index=False)"
   ]
  },
  {
   "cell_type": "code",
   "execution_count": 36,
   "id": "confidential-antenna",
   "metadata": {},
   "outputs": [
    {
     "data": {
      "text/html": [
       "<div>\n",
       "<style scoped>\n",
       "    .dataframe tbody tr th:only-of-type {\n",
       "        vertical-align: middle;\n",
       "    }\n",
       "\n",
       "    .dataframe tbody tr th {\n",
       "        vertical-align: top;\n",
       "    }\n",
       "\n",
       "    .dataframe thead th {\n",
       "        text-align: right;\n",
       "    }\n",
       "</style>\n",
       "<table border=\"1\" class=\"dataframe\">\n",
       "  <thead>\n",
       "    <tr style=\"text-align: right;\">\n",
       "      <th></th>\n",
       "      <th>Dataset</th>\n",
       "      <th>ImgSimScore_Intra</th>\n",
       "    </tr>\n",
       "  </thead>\n",
       "  <tbody>\n",
       "    <tr>\n",
       "      <th>0</th>\n",
       "      <td>FFHQ</td>\n",
       "      <td>0.994070</td>\n",
       "    </tr>\n",
       "    <tr>\n",
       "      <th>1</th>\n",
       "      <td>Diverse Dataset</td>\n",
       "      <td>0.989534</td>\n",
       "    </tr>\n",
       "    <tr>\n",
       "      <th>2</th>\n",
       "      <td>WIKI</td>\n",
       "      <td>0.978636</td>\n",
       "    </tr>\n",
       "    <tr>\n",
       "      <th>3</th>\n",
       "      <td>IMDB</td>\n",
       "      <td>0.966186</td>\n",
       "    </tr>\n",
       "    <tr>\n",
       "      <th>4</th>\n",
       "      <td>LFW</td>\n",
       "      <td>0.953636</td>\n",
       "    </tr>\n",
       "    <tr>\n",
       "      <th>5</th>\n",
       "      <td>UTK</td>\n",
       "      <td>0.941871</td>\n",
       "    </tr>\n",
       "  </tbody>\n",
       "</table>\n",
       "</div>"
      ],
      "text/plain": [
       "           Dataset  ImgSimScore_Intra\n",
       "0             FFHQ           0.994070\n",
       "1  Diverse Dataset           0.989534\n",
       "2             WIKI           0.978636\n",
       "3             IMDB           0.966186\n",
       "4              LFW           0.953636\n",
       "5              UTK           0.941871"
      ]
     },
     "execution_count": 36,
     "metadata": {},
     "output_type": "execute_result"
    }
   ],
   "source": [
    "result_df"
   ]
  },
  {
   "cell_type": "markdown",
   "id": "advanced-serial",
   "metadata": {},
   "source": [
    "### 5. Visualisations"
   ]
  },
  {
   "cell_type": "code",
   "execution_count": 2,
   "id": "capital-delaware",
   "metadata": {},
   "outputs": [
    {
     "data": {
      "text/plain": [
       "RendererRegistry.enable('notebook')"
      ]
     },
     "execution_count": 2,
     "metadata": {},
     "output_type": "execute_result"
    }
   ],
   "source": [
    "import altair as alt\n",
    "alt.renderers.enable(\"notebook\")"
   ]
  },
  {
   "cell_type": "code",
   "execution_count": 3,
   "id": "excessive-george",
   "metadata": {},
   "outputs": [],
   "source": [
    "result_df = pd.read_csv('results.csv')"
   ]
  },
  {
   "cell_type": "code",
   "execution_count": 46,
   "id": "coordinated-percentage",
   "metadata": {},
   "outputs": [
    {
     "data": {
      "application/javascript": [
       "const spec = {\"config\": {\"view\": {\"width\": 400, \"height\": 300}, \"mark\": {\"tooltip\": null}}, \"data\": {\"name\": \"data-a08952bc69ae189de59356f70a0a6f67\"}, \"mark\": \"bar\", \"encoding\": {\"color\": {\"condition\": {\"value\": \"orange\", \"test\": \"(datum.Dataset === 'Diverse Dataset')\"}, \"value\": \"steelblue\"}, \"x\": {\"type\": \"nominal\", \"field\": \"Dataset\", \"sort\": {\"field\": \"Letters\", \"op\": \"count\", \"order\": \"ascending\"}}, \"y\": {\"type\": \"quantitative\", \"field\": \"ImgSimScore_Intra\", \"scale\": {\"domain\": [0, 1.2]}}}, \"width\": 300, \"$schema\": \"https://vega.github.io/schema/vega-lite/v3.4.0.json\", \"datasets\": {\"data-a08952bc69ae189de59356f70a0a6f67\": [{\"Dataset\": \"FFHQ\", \"ImgSimScore_Intra\": 0.9940702592716462}, {\"Dataset\": \"Diverse Dataset\", \"ImgSimScore_Intra\": 0.9895337412091176}, {\"Dataset\": \"WIKI\", \"ImgSimScore_Intra\": 0.9786356309632459}, {\"Dataset\": \"IMDB\", \"ImgSimScore_Intra\": 0.9661864378235752}, {\"Dataset\": \"LFW\", \"ImgSimScore_Intra\": 0.9536360698556308}, {\"Dataset\": \"UTK\", \"ImgSimScore_Intra\": 0.9418706916076808}]}};\n",
       "const opt = {};\n",
       "const type = \"vega-lite\";\n",
       "const id = \"5d6f7f18-6d64-4748-8f8f-7fd888331041\";\n",
       "\n",
       "const output_area = this;\n",
       "\n",
       "require([\"nbextensions/jupyter-vega/index\"], function(vega) {\n",
       "  const target = document.createElement(\"div\");\n",
       "  target.id = id;\n",
       "  target.className = \"vega-embed\";\n",
       "\n",
       "  const style = document.createElement(\"style\");\n",
       "  style.textContent = [\n",
       "    \".vega-embed .error p {\",\n",
       "    \"  color: firebrick;\",\n",
       "    \"  font-size: 14px;\",\n",
       "    \"}\",\n",
       "  ].join(\"\\\\n\");\n",
       "\n",
       "  // element is a jQuery wrapped DOM element inside the output area\n",
       "  // see http://ipython.readthedocs.io/en/stable/api/generated/\\\n",
       "  // IPython.display.html#IPython.display.Javascript.__init__\n",
       "  element[0].appendChild(target);\n",
       "  element[0].appendChild(style);\n",
       "\n",
       "  vega.render(\"#\" + id, spec, type, opt, output_area);\n",
       "}, function (err) {\n",
       "  if (err.requireType !== \"scripterror\") {\n",
       "    throw(err);\n",
       "  }\n",
       "});\n"
      ],
      "text/plain": [
       "<vega.vegalite.VegaLite at 0x2542d728780>"
      ]
     },
     "metadata": {
      "jupyter-vega": "#5d6f7f18-6d64-4748-8f8f-7fd888331041"
     },
     "output_type": "display_data"
    },
    {
     "data": {
      "text/plain": []
     },
     "execution_count": 46,
     "metadata": {},
     "output_type": "execute_result"
    },
    {
     "data": {
      "image/png": "[encoded data removed]"
     },
     "metadata": {
      "jupyter-vega": "#5d6f7f18-6d64-4748-8f8f-7fd888331041"
     },
     "output_type": "display_data"
    }
   ],
   "source": [
    "alt.Chart(result_df).mark_bar().encode(\n",
    "    alt.X(\"Dataset\", sort=alt.EncodingSortField(field=\"Letters\", op=\"count\", order='ascending')),\n",
    "    y=alt.Y('ImgSimScore_Intra', scale=alt.Scale(domain=[0, 1.2])),\n",
    "    color=alt.condition(\n",
    "        alt.datum.Dataset == 'Diverse Dataset',  \n",
    "        alt.value('orange'),    \n",
    "        alt.value('steelblue')\n",
    ")).properties(width=300)"
   ]
  },
  {
   "cell_type": "code",
   "execution_count": null,
   "id": "recent-insulation",
   "metadata": {},
   "outputs": [],
   "source": []
  }
 ],
 "metadata": {
  "kernelspec": {
   "display_name": "Python 3 (ipykernel)",
   "language": "python",
   "name": "python3"
  },
  "language_info": {
   "codemirror_mode": {
    "name": "ipython",
    "version": 3
   },
   "file_extension": ".py",
   "mimetype": "text/x-python",
   "name": "python",
   "nbconvert_exporter": "python",
   "pygments_lexer": "ipython3",
   "version": "3.7.3"
  }
 },
 "nbformat": 4,
 "nbformat_minor": 5
}
